{
 "cells": [
  {
   "cell_type": "code",
   "execution_count": 2,
   "metadata": {
    "collapsed": true
   },
   "outputs": [],
   "source": [
    "import pandas as pd #used to put the data into tables, but you can use an alternative package\n",
    "import pickle #used to serialize the dictionaries and load it in the graphing script\n",
    "import math #used to find null points and skip over them"
   ]
  },
  {
   "cell_type": "code",
   "execution_count": 3,
   "metadata": {
    "collapsed": true
   },
   "outputs": [],
   "source": [
    "xls = pd.ExcelFile(\"SFMdata.xlsx\") #loads the file from Excel\n",
    "xls1 = xls.parse(0) #\n",
    "xls2 = xls.parse(1)\n",
    "xls3 = xls.parse(2)\n",
    "xls1[\"Organization:ID\"] = xls1.index\n",
    "xls2[\"ID\"] = xls2.index\n",
    "xls1 = xls1.drop(['Unnamed: 66', 'Unnamed: 67', 'Unnamed: 68', 'Unnamed: 69', 'Unnamed: 70', 'Unnamed: 71', 'Unnamed: 72', 'Unnamed: 73', 'Unnamed: 74', 'Unnamed: 75'], 1)\n",
    "xls2 = xls2.drop(['Unnamed: 35', 'Unnamed: 36'], 1)"
   ]
  },
  {
   "cell_type": "code",
   "execution_count": 4,
   "metadata": {
    "collapsed": true
   },
   "outputs": [],
   "source": [
    "def all_indices(value, qlist):\n",
    "    indices = []\n",
    "    idx = -1\n",
    "    while True:\n",
    "        try:\n",
    "            idx = qlist.index(value, idx+1)\n",
    "            indices.append(idx)\n",
    "        except ValueError:\n",
    "            break\n",
    "    return indices\n",
    "\n",
    "#The above function finds all the indices of the table that match to create the dictionary; originally used a nested for loop,\n",
    "#but it was extremely inefficient, with an exponentially increasing runtime\n",
    "\n",
    "\n",
    "def relationship (typ, inp1, inp2):\n",
    "    dictionary = {} #start with empty dictionary\n",
    "    num = int(typ)\n",
    "    column = int(inp1) #index of the column to be the dictionary entry\n",
    "    column2 = int(inp2) #index of the column that will fill the list in each dictionary entry\n",
    "    if num == 1:\n",
    "        asd = xls1 #picks table of organizations\n",
    "    elif num == 2:\n",
    "        asd = xls2 #picks table of people\n",
    "    elif num == 3:\n",
    "        asd = xls3 #picks table of events\n",
    "    else:\n",
    "        return (\"First number is invalid.\") #error message if input incorrect\n",
    "    a = asd.iloc[:,column].tolist() #the above function only works with lists, not pandas series\n",
    "    b = asd.iloc[:,column2].tolist()\n",
    "    for i in range(len(a)): #goes through every entry in the column\n",
    "        ert = list() #start with a blank list\n",
    "        part1 = a[i] #start with the one you want to match\n",
    "        if type(part1) == float:\n",
    "                    if math.isnan(part1): #if null, skip it and go back to the beginning of the loop\n",
    "                        continue\n",
    "        relev = all_indices(part1,a) #finds the indices where Part 1 matches with other rows\n",
    "        for r in relev: #list of all the matching indices with the second column\n",
    "            if type(b[r]) == float:\n",
    "                if math.isnan(b[r]): #if null, skip and go back to the rest of the indices\n",
    "                    continue\n",
    "                else:\n",
    "                    ert.append(b[r]) #add it to the list\n",
    "            if type(b[r]) != float and pd.isnull(b[r]):\n",
    "                continue\n",
    "            else:\n",
    "                ert.append(b[r])\n",
    "        dictionary[part1] = ert #add the complete list to the dictionary entry\n",
    "    return dictionary #after all the loops, the completed dictionary is returned"
   ]
  },
  {
   "cell_type": "code",
   "execution_count": 6,
   "metadata": {},
   "outputs": [],
   "source": [
    "result = relationship(1,1,56)\n",
    "f = open(\"dicts\", \"wb\")\n",
    "pickle.dump(result, f)\n",
    "f.close()\n",
    "resultfirstdate = relationship(1,1,62)\n",
    "f = open(\"dictsfirstdate\", \"wb\")\n",
    "pickle.dump(resultfirstdate, f)\n",
    "f.close()\n",
    "resultlastdate = relationship(1,1,62)\n",
    "f = open(\"dictslastdate\", \"wb\")\n",
    "pickle.dump(resultlastdate, f)\n",
    "f.close()\n",
    "resultpeople1 = relationship(2,8,1)\n",
    "f = open(\"dictspeople1\", \"wb\")\n",
    "pickle.dump(resultpeople1, f)\n",
    "f.close()\n",
    "resultpeople2 = relationship(2,1,8)\n",
    "f = open(\"dictspeople2\", \"wb\")\n",
    "pickle.dump(resultpeople2, f)\n",
    "f.close()\n",
    "resultpeople3 = relationship(2,1,11)\n",
    "f = open(\"dictspeople3\", \"wb\")\n",
    "pickle.dump(resultpeople3, f)\n",
    "f.close()\n",
    "resultlocation = relationship(1,1,44)\n",
    "f = open(\"dictslocation\", \"wb\")\n",
    "pickle.dump(resultlocation, f)\n",
    "f.close()\n",
    "resultrank = relationship(1,1,44)\n",
    "f = open(\"dictslocation\", \"wb\")\n",
    "pickle.dump(resultlocation, f)\n",
    "f.close()\n",
    "resultorg = relationship(1,56,1)\n",
    "f = open(\"dictsorg\", \"wb\")\n",
    "pickle.dump(resultorg, f)\n",
    "f.close()\n",
    "resultclass = relationship(1,1,7)\n",
    "f = open(\"dictsclass\", \"wb\")\n",
    "pickle.dump(resultclass, f)\n",
    "f.close()\n",
    "#Various relationships found between"
   ]
  }
 ],
 "metadata": {
  "anaconda-cloud": {},
  "kernelspec": {
   "display_name": "Python 3",
   "language": "python",
   "name": "python3"
  },
  "language_info": {
   "codemirror_mode": {
    "name": "ipython",
    "version": 3
   },
   "file_extension": ".py",
   "mimetype": "text/x-python",
   "name": "python",
   "nbconvert_exporter": "python",
   "pygments_lexer": "ipython3",
   "version": "3.5.4"
  }
 },
 "nbformat": 4,
 "nbformat_minor": 2
}
