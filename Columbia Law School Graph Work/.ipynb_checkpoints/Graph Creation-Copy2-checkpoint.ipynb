{
 "cells": [
  {
   "cell_type": "code",
   "execution_count": 38,
   "metadata": {
    "collapsed": true
   },
   "outputs": [],
   "source": [
    "import pandas as pd\n",
    "import numpy as np\n",
    "import graphviz as vg\n",
    "import random\n",
    "import time\n",
    "import datetime\n",
    "#!pip install --upgrade https://github.com/mikedewar/d3py/tarball/master\n",
    "#!pip install osmapi \n",
    "import d3py\n",
    "import pickle\n",
    "#import osmapi"
   ]
  },
  {
   "cell_type": "code",
   "execution_count": 14,
   "metadata": {
    "collapsed": true
   },
   "outputs": [],
   "source": [
    "xls = pd.ExcelFile(\"SFMdata.xlsx\")\n",
    "xls1 = xls.parse(0)\n",
    "xls2 = xls.parse(1)\n",
    "xls3 = xls.parse(2)\n",
    "xls1[\"Organization:ID\"] = xls1.index\n",
    "xls2[\"ID\"] = xls2.index\n",
    "xls1 = xls1.drop(['Unnamed: 66', 'Unnamed: 67', 'Unnamed: 68', 'Unnamed: 69', 'Unnamed: 70', 'Unnamed: 71', 'Unnamed: 72', 'Unnamed: 73', 'Unnamed: 74', 'Unnamed: 75'], 1)\n",
    "xls2 = xls2.drop(['Unnamed: 35', 'Unnamed: 36'], 1)\n",
    "newxls1 = pd.DataFrame()\n",
    "for j in range (len(xls1)):\n",
    "    if pd.notnull(xls1.iloc[j][\"OrganizationMembership:member_id\"]):\n",
    "        row1 = xls1.iloc[j]\n",
    "        row2 = pd.DataFrame(row1).T\n",
    "        newxls1 = newxls1.append(row2, ignore_index = True)\n",
    "newxls2 = pd.DataFrame()\n",
    "for j in range (len(xls2)):\n",
    "    if pd.notnull(xls2.iloc[j][\"Organization\"]):\n",
    "        row1 = xls2.iloc[j]\n",
    "        row2 = pd.DataFrame(row1).T\n",
    "        newxls2 = newxls2.append(row2, ignore_index = True)"
   ]
  },
  {
   "cell_type": "code",
   "execution_count": 30,
   "metadata": {},
   "outputs": [],
   "source": [
    "def load(file_name):\n",
    "    f =  open(file_name,'r')\n",
    "    b = pickle.load(f)\n",
    "    return b\n",
    "result = load(\"dicts\")\n",
    "resultdate = load(\"dictsdate\")\n",
    "resultpeople1 = load(\"dictspeople1\")\n",
    "resultpeople2 = load(\"dictspeople2\")\n",
    "resultrank = load(\"dictspeople3\")\n",
    "resultlocation = load(\"dictslocation\")\n",
    "\n",
    "keysorg = result.keys()\n",
    "keyspeople = resultpeople2.keys()\n",
    "dates1 = resultdate.values()\n",
    "ranks = resultrank.values()\n",
    "locations = resultlocation.keys()\n",
    "\n",
    "for i in range(len(resultpeople2)):\n",
    "    resultpeople2[keyspeople[i]] = list(set(resultpeople2[keyspeople[i]]))\n",
    "for i in range(len(resultrank)):\n",
    "    resultrank[keyspeople[i]] = list(set(resultrank[keyspeople[i]]))"
   ]
  },
  {
   "cell_type": "code",
   "execution_count": 39,
   "metadata": {},
   "outputs": [
    {
     "ename": "NameError",
     "evalue": "global name 'string' is not defined",
     "output_type": "error",
     "traceback": [
      "\u001b[1;31m\u001b[0m",
      "\u001b[1;31mNameError\u001b[0mTraceback (most recent call last)",
      "\u001b[1;32m<ipython-input-39-b64d933f319f>\u001b[0m in \u001b[0;36m<module>\u001b[1;34m()\u001b[0m\n\u001b[0;32m      1\u001b[0m \u001b[0mrand_str\u001b[0m \u001b[1;33m=\u001b[0m \u001b[1;32mlambda\u001b[0m \u001b[0mn\u001b[0m\u001b[1;33m:\u001b[0m \u001b[1;34m''\u001b[0m\u001b[1;33m.\u001b[0m\u001b[0mjoin\u001b[0m\u001b[1;33m(\u001b[0m\u001b[1;33m[\u001b[0m\u001b[0mrandom\u001b[0m\u001b[1;33m.\u001b[0m\u001b[0mchoice\u001b[0m\u001b[1;33m(\u001b[0m\u001b[0mstring\u001b[0m\u001b[1;33m.\u001b[0m\u001b[0mlowercase\u001b[0m\u001b[1;33m)\u001b[0m \u001b[1;32mfor\u001b[0m \u001b[0mi\u001b[0m \u001b[1;32min\u001b[0m \u001b[0mxrange\u001b[0m\u001b[1;33m(\u001b[0m\u001b[0mn\u001b[0m\u001b[1;33m)\u001b[0m\u001b[1;33m]\u001b[0m\u001b[1;33m)\u001b[0m\u001b[1;33m\u001b[0m\u001b[0m\n\u001b[1;32m----> 2\u001b[1;33m \u001b[0mrand_str\u001b[0m\u001b[1;33m(\u001b[0m\u001b[1;36m10\u001b[0m\u001b[1;33m)\u001b[0m\u001b[1;33m\u001b[0m\u001b[0m\n\u001b[0m",
      "\u001b[1;32m<ipython-input-39-b64d933f319f>\u001b[0m in \u001b[0;36m<lambda>\u001b[1;34m(n)\u001b[0m\n\u001b[1;32m----> 1\u001b[1;33m \u001b[0mrand_str\u001b[0m \u001b[1;33m=\u001b[0m \u001b[1;32mlambda\u001b[0m \u001b[0mn\u001b[0m\u001b[1;33m:\u001b[0m \u001b[1;34m''\u001b[0m\u001b[1;33m.\u001b[0m\u001b[0mjoin\u001b[0m\u001b[1;33m(\u001b[0m\u001b[1;33m[\u001b[0m\u001b[0mrandom\u001b[0m\u001b[1;33m.\u001b[0m\u001b[0mchoice\u001b[0m\u001b[1;33m(\u001b[0m\u001b[0mstring\u001b[0m\u001b[1;33m.\u001b[0m\u001b[0mlowercase\u001b[0m\u001b[1;33m)\u001b[0m \u001b[1;32mfor\u001b[0m \u001b[0mi\u001b[0m \u001b[1;32min\u001b[0m \u001b[0mxrange\u001b[0m\u001b[1;33m(\u001b[0m\u001b[0mn\u001b[0m\u001b[1;33m)\u001b[0m\u001b[1;33m]\u001b[0m\u001b[1;33m)\u001b[0m\u001b[1;33m\u001b[0m\u001b[0m\n\u001b[0m\u001b[0;32m      2\u001b[0m \u001b[0mrand_str\u001b[0m\u001b[1;33m(\u001b[0m\u001b[1;36m10\u001b[0m\u001b[1;33m)\u001b[0m\u001b[1;33m\u001b[0m\u001b[0m\n",
      "\u001b[1;31mNameError\u001b[0m: global name 'string' is not defined"
     ]
    }
   ],
   "source": [
    "rand_str = lambda n: ''.join([random.choice(string.lowercase) for i in xrange(n)])\n",
    "rand_str(10)"
   ]
  },
  {
   "cell_type": "code",
   "execution_count": 51,
   "metadata": {},
   "outputs": [
    {
     "name": "stdout",
     "output_type": "stream",
     "text": [
      "1\n",
      "1\n",
      "1\n",
      "1\n",
      "1\n",
      "1\n"
     ]
    },
    {
     "data": {
      "text/plain": [
       "'testgraph3.jpg'"
      ]
     },
     "execution_count": 51,
     "metadata": {},
     "output_type": "execute_result"
    }
   ],
   "source": [
    "dot = vg.Graph()\n",
    "dot.engine = 'dot'\n",
    "dot.attr('node', shape='circle', style = \"filled\", fillcolor = \"red\", height = \"4\")\n",
    "\n",
    "def drawedges(area, color):\n",
    "    return 1\n",
    "\n",
    "def areagraph(area):\n",
    "    alreadyedges = list()\n",
    "    area = str(area)\n",
    "    dot.node(area)\n",
    "    dot.attr('node', shape='oval', style = \"filled\", fillcolor = \"white\", height = \"0.02\")\n",
    "    if area not in resultpeople1.keys():\n",
    "        print(\"This is not a valid entry. Here are valid entries.\")\n",
    "        return (list(set(resultpeople1.keys())))\n",
    "    for j in range(len(resultpeople1[area])):\n",
    "        person = resultpeople1[area][j]\n",
    "        if (str(person), str(area)) not in alreadyedges:\n",
    "            alreadyedges.append((str(person), str(area)))\n",
    "            dot.edge(str(person), str(area), color = \"red\")\n",
    "        personarea = resultpeople2[person]\n",
    "        for r in range(len(personarea)):\n",
    "            personarea1 = personarea[r]\n",
    "            if (str(personarea1), str(person)) not in alreadyedges and (str(person), str(personarea1)) not in alreadyedges:\n",
    "                alreadyedges.append((str(person), str(personarea1)))\n",
    "                dot.edge(str(person), str(personarea1), color = \"purple\")\n",
    "            if personarea1 in locations:\n",
    "                location = resultlocation[personarea1]\n",
    "                if len(location) == 0:\n",
    "                    location = \"No location given in data.\"\n",
    "                    if (str(personarea1), str(location)) not in alreadyedges:\n",
    "                        dot.edge(str(personarea1), str(location), color = \"blue\")\n",
    "                else:\n",
    "                    location = location[0]\n",
    "                    if (str(personarea1), str(location)) not in alreadyedges:\n",
    "                        dot.edge(str(personarea1), str(location), color = \"blue\", headlabel = \"Location:\")\n",
    "            else:\n",
    "                location = \"No location given in data.\"\n",
    "                if (str(personarea1), str(location)) not in alreadyedges:\n",
    "                    dot.edge(str(personarea1), str(location), color = \"blue\")\n",
    "        if area in keysorg:\n",
    "            member = result[area]\n",
    "        else:\n",
    "            member = [\"No information about memberships.\"]\n",
    "        if area in resultdate:\n",
    "            dt = resultdate[area]\n",
    "            if len(dt) == 0:\n",
    "                dt3 = \"No Date Given\"\n",
    "            else:\n",
    "                dt1 = dt[len(dt)-1]\n",
    "                dt2 = datetime.date(dt1.year, dt1.month, dt1.day)\n",
    "                dt3 = str(dt2.strftime('%B %d, %Y'))\n",
    "        else:\n",
    "            dt3 = \"N/A\"\n",
    "        for r in range(len(member)):\n",
    "            if (str(area), str(member[r])) not in alreadyedges:\n",
    "                alreadyedges.append((str(area), str(member[r])))\n",
    "                dot.edge(str(area), str(member[r]), color = \"green\", headlabel = \"Last Confirmed: \" + dt3 + \".\")\n",
    "        if area in locations:\n",
    "            location = resultlocation[area]\n",
    "            if len(location) == 0:\n",
    "                location = \"No location given in data.\"\n",
    "                if (str(area), str(location)) not in alreadyedges:\n",
    "                    dot.edge(str(area), str(location), color = \"blue\")\n",
    "            else:\n",
    "                location = location[0]\n",
    "                if (str(area), str(location)) not in alreadyedges:\n",
    "                    dot.edge(str(area), str(location), color = \"blue\", headlabel = \"Location:\")\n",
    "        else:\n",
    "            location = \"No location given in data.\"\n",
    "            print(1)\n",
    "            if (str(area), str(location)) not in alreadyedges:\n",
    "                dot.edge(str(area), location, color = \"blue\")\n",
    "    return dot\n",
    "areagraph(\"42 Zona Militar\")\n",
    "dot.render('testgraph3.jpg', view=True)\n",
    "'testgraph3.jpg'"
   ]
  },
  {
   "cell_type": "code",
   "execution_count": 29,
   "metadata": {},
   "outputs": [
    {
     "data": {
      "text/plain": [
       "{'1 Battalion': ['Gwandu'],\n",
       " '1 Brigade': [],\n",
       " '1 Mechanised Division': ['Kaduna', 'Zamfara'],\n",
       " '1 Regimiento de Caballera Motorizada': ['Atlixco'],\n",
       " '103 Battalion': ['Bama', 'Borno'],\n",
       " '112 Task Force Battalion': ['Mafa'],\n",
       " '12 Cuerpo de Infantera de Defensas Rurales': [],\n",
       " '12 Zona Militar': ['San Luis Potos'],\n",
       " '130 Battalion': [],\n",
       " '134 Battalion': ['Borno'],\n",
       " '14 Regimiento de Caballera Motorizada': [],\n",
       " '146 Battalion': [],\n",
       " '149 Battalion': [],\n",
       " '15 Batalln de Infantera': ['Ciudad Madero', 'Tampico ', 'Zamora'],\n",
       " '174 Battalion': ['Ikorodu'],\n",
       " '18 Batalln de Infantera': ['Palenque'],\n",
       " '18 Regimiento de Caballera Motorizado': ['San Cristbal de las Casas'],\n",
       " '19 Battalion': ['Sapele', 'Ethiope Eas'],\n",
       " '192 Motorised Battalion': ['Ado Odo/Ota'],\n",
       " '195 Battalion': ['Damboa', 'Damboa', 'Damboa', 'Damboa'],\n",
       " '2 Batalln de Infantera': ['Cusihuiriachi'],\n",
       " '2 Battalion': ['Degema'],\n",
       " '2 Mechanised Division': ['Ekiti', 'Kwara', 'Edo'],\n",
       " '2 Regimiento de Caballera Motorizado': ['Ensenada'],\n",
       " '2 Zona Militar': ['Baja California'],\n",
       " '21 Armoured Brigade': ['Geidam', 'Bama'],\n",
       " '21 Zona Militar': ['Acuitzio'],\n",
       " '213 Battalion': [],\n",
       " '22 Armoured Brigade': [],\n",
       " '22 Batalln de Infantera': ['Monterrey'],\n",
       " '22 Battalion': [],\n",
       " '222 Battalion': [],\n",
       " '223 Armoured Battalion': ['Zamfara'],\n",
       " '23 Armoured Brigade': ['Yobe', 'Adamawa'],\n",
       " '23 Batalln de Infantera': ['Chihuahua'],\n",
       " '23 Regimiento de Caballera Motorizado': ['Ensenada'],\n",
       " '234 Special Operations Battalion': ['Borno', 'Borno'],\n",
       " '24 Regimiento de Caballera Motorizado': ['Culiacn'],\n",
       " '241 Recce Battalion': [],\n",
       " '242 Recce Battalion': [],\n",
       " '26 Batalln de Infantera': ['Reynosa'],\n",
       " '26 Battalion': ['Isa'],\n",
       " '26 Zona Militar': ['Acajete'],\n",
       " '28 Task Force Brigade': [],\n",
       " '29 Battalion': ['Okrika'],\n",
       " '29 Zona Militar': ['Agua Dulce', 'Acayucan'],\n",
       " '3 Armoured Division': ['Adamawa', 'Bauchi'],\n",
       " '3 Battalion': ['Uvwie', 'Warri South-West', 'Burutu'],\n",
       " '3 Motorized Brigade': [],\n",
       " '301 Artillery Regiment': [],\n",
       " '31 Batalln de Infantera': ['Ocosingo'],\n",
       " '31 Field Artillery Brigade': ['Niger', 'Muya'],\n",
       " '32 Artillery Brigade': [],\n",
       " '32 Batalln de Infantera': ['Acatln de Jurez'],\n",
       " '322 Artillery Regiment': [],\n",
       " '323 Artillery Regiment': [],\n",
       " '33 Artillery Brigade': ['Ningi'],\n",
       " '34 Batalln de Infantera': ['Arcelia', 'Ajuchitln del Progreso'],\n",
       " '34 Field Artillery Brigade': [],\n",
       " '35 Batalln de Infantera': ['Madera'],\n",
       " '35 Zona Militar': ['Acapulco de Jurez'],\n",
       " '37 Batalln de Infantera': ['Uruapan'],\n",
       " '38 Batalln de Infantera': ['Cerralvo'],\n",
       " '39 Batalln de Infantera': ['Huayacocotla'],\n",
       " '4 Batalln de Infantera': ['Calera'],\n",
       " '4 Mechanized Brigade': ['Uvwie'],\n",
       " '42 Batalln de Infantera': ['Badiraguato'],\n",
       " '45 Batalln de Infantera': ['San Ciro de Acosta'],\n",
       " '5 Zona Militar': ['Ahumada'],\n",
       " '6 Zona Militar': ['Coahuila'],\n",
       " '63 Batalln de Infantera': ['Maltrata', 'Soledad Atzompa'],\n",
       " '66 Batalln de Infantera': ['Delicias'],\n",
       " '67 Batalln de Infantera': ['Playas de Rosarito'],\n",
       " '7 Batalln de Infantera': ['Poza Rica de Hidalgo'],\n",
       " '7 Compaa de Infantera No Encuadrada': [],\n",
       " '7 Division': ['Bauchi', 'Adamawa'],\n",
       " '7 Division Garrison': ['Mafa'],\n",
       " '7 Zona Militar': ['Nuevo Len'],\n",
       " '72 Special Forces Battalion': [],\n",
       " '73 Battalion': ['Nembe', 'Southern Ijaw'],\n",
       " '74 Batalln de Infantera': ['Mier'],\n",
       " '75 Strike Group': [],\n",
       " '76 Batalln de Infantera': ['Ahumada'],\n",
       " '77 Batalln de Infantera': ['El Mante'],\n",
       " '8 Batalln de Infantera': ['Badiraguato'],\n",
       " '8 Regimiento Mecanizado': ['Aculco'],\n",
       " '8 Regimiento de Caballera Motorizado': ['Valle Hermoso'],\n",
       " '81 Battalion': ['Nganzai'],\n",
       " '82 Mechanised Battalion': ['Jos North'],\n",
       " '83 Batalln de Infantera': [],\n",
       " '87 Batalln de Infantera': [],\n",
       " '89 Batalln de Infantera': ['El Fuerte'],\n",
       " '9 Brigade': [],\n",
       " '93 Battalion': ['Ibi', 'Ibi'],\n",
       " '94 Batalln de Infantera': ['Culiacn'],\n",
       " '96 Batalln de Infantera': ['Apatzingn'],\n",
       " '98 Batalln de Infantera': ['Acaxochitln'],\n",
       " '99 Batalln de Infantera': [],\n",
       " 'IV Regin Militar': ['Nuevo Len', 'San Luis Potosi'],\n",
       " 'Naibawa Police Division': ['Kumbotso'],\n",
       " 'Police Mobile Force Squadron 27': [],\n",
       " 'Police Mobile Force Squadron 4': [],\n",
       " 'Police Mobile Force Squadron 44': [],\n",
       " 'Police Mobile Force Squadron 45': [],\n",
       " 'Rano Police Area Command': [],\n",
       " 'State Security Service': ['Nigeria'],\n",
       " 'VI Regin Militar': ['Hidalgo'],\n",
       " 'XII Regin Militar': ['Quertaro']}"
      ]
     },
     "execution_count": 29,
     "metadata": {},
     "output_type": "execute_result"
    }
   ],
   "source": [
    "resultlocation"
   ]
  },
  {
   "cell_type": "code",
   "execution_count": 27,
   "metadata": {},
   "outputs": [
    {
     "ename": "NameError",
     "evalue": "name 'person' is not defined",
     "output_type": "error",
     "traceback": [
      "\u001b[1;31m\u001b[0m",
      "\u001b[1;31mNameError\u001b[0mTraceback (most recent call last)",
      "\u001b[1;32m<ipython-input-27-9df594eab9b7>\u001b[0m in \u001b[0;36m<module>\u001b[1;34m()\u001b[0m\n\u001b[1;32m----> 1\u001b[1;33m \u001b[0mresultpeople2\u001b[0m\u001b[1;33m[\u001b[0m\u001b[0mperson\u001b[0m\u001b[1;33m]\u001b[0m\u001b[1;33m\u001b[0m\u001b[0m\n\u001b[0m",
      "\u001b[1;31mNameError\u001b[0m: name 'person' is not defined"
     ]
    }
   ],
   "source": [
    "resultpeople2[person]"
   ]
  }
 ],
 "metadata": {
  "kernelspec": {
   "display_name": "Python 2",
   "language": "python",
   "name": "python2"
  },
  "language_info": {
   "codemirror_mode": {
    "name": "ipython",
    "version": 2
   },
   "file_extension": ".py",
   "mimetype": "text/x-python",
   "name": "python",
   "nbconvert_exporter": "python",
   "pygments_lexer": "ipython2",
   "version": "2.7.13"
  }
 },
 "nbformat": 4,
 "nbformat_minor": 2
}
