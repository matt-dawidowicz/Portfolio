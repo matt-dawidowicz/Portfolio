{
 "cells": [
  {
   "cell_type": "code",
   "execution_count": 2,
   "metadata": {
    "collapsed": true
   },
   "outputs": [],
   "source": [
    "import pandas as pd\n",
    "import numpy as np\n",
    "import graphviz as vg\n",
    "import random\n",
    "import time\n",
    "import datetime\n",
    "import pickle\n",
    "#!pip install git://github.com/pygraphviz/pygraphviz.git"
   ]
  },
  {
   "cell_type": "code",
   "execution_count": 9,
   "metadata": {},
   "outputs": [
    {
     "ename": "TypeError",
     "evalue": "'dict_keys' object does not support indexing",
     "output_type": "error",
     "traceback": [
      "\u001b[1;31m---------------------------------------------------------------------------\u001b[0m",
      "\u001b[1;31mTypeError\u001b[0m                                 Traceback (most recent call last)",
      "\u001b[1;32m<ipython-input-9-c4c6be644307>\u001b[0m in \u001b[0;36m<module>\u001b[1;34m()\u001b[0m\n\u001b[0;32m     17\u001b[0m \u001b[1;33m\u001b[0m\u001b[0m\n\u001b[0;32m     18\u001b[0m \u001b[1;32mfor\u001b[0m \u001b[0mi\u001b[0m \u001b[1;32min\u001b[0m \u001b[0mrange\u001b[0m\u001b[1;33m(\u001b[0m\u001b[0mlen\u001b[0m\u001b[1;33m(\u001b[0m\u001b[0mresultpeople2\u001b[0m\u001b[1;33m)\u001b[0m\u001b[1;33m)\u001b[0m\u001b[1;33m:\u001b[0m\u001b[1;33m\u001b[0m\u001b[0m\n\u001b[1;32m---> 19\u001b[1;33m     \u001b[0mresultpeople2\u001b[0m\u001b[1;33m[\u001b[0m\u001b[0mkeyspeople\u001b[0m\u001b[1;33m[\u001b[0m\u001b[0mi\u001b[0m\u001b[1;33m]\u001b[0m\u001b[1;33m]\u001b[0m \u001b[1;33m=\u001b[0m \u001b[0mlist\u001b[0m\u001b[1;33m(\u001b[0m\u001b[0mset\u001b[0m\u001b[1;33m(\u001b[0m\u001b[0mresultpeople2\u001b[0m\u001b[1;33m[\u001b[0m\u001b[0mkeyspeople\u001b[0m\u001b[1;33m[\u001b[0m\u001b[0mi\u001b[0m\u001b[1;33m]\u001b[0m\u001b[1;33m]\u001b[0m\u001b[1;33m)\u001b[0m\u001b[1;33m)\u001b[0m\u001b[1;33m\u001b[0m\u001b[0m\n\u001b[0m\u001b[0;32m     20\u001b[0m \u001b[1;31m#for i in range(len(resultrank)):\u001b[0m\u001b[1;33m\u001b[0m\u001b[1;33m\u001b[0m\u001b[0m\n\u001b[0;32m     21\u001b[0m  \u001b[1;31m#   resultrank[keyspeople[i]] = list(set(resultrank[keyspeople[i]]))\u001b[0m\u001b[1;33m\u001b[0m\u001b[1;33m\u001b[0m\u001b[0m\n",
      "\u001b[1;31mTypeError\u001b[0m: 'dict_keys' object does not support indexing"
     ]
    }
   ],
   "source": [
    "def load(file_name):\n",
    "    f =  open(file_name,'rb')\n",
    "    b = pickle.load(f)\n",
    "    return b\n",
    "result = load(\"dicts\")\n",
    "resultdate = load(\"dictsdate1\")\n",
    "resultpeople1 = load(\"dictspeople1\")\n",
    "resultpeople2 = load(\"dictspeople2\")\n",
    "resultrank = load(\"dictspeople3\")\n",
    "resultlocation = load(\"dictslocation\")\n",
    "\n",
    "keysorg = result.keys()\n",
    "keyspeople = resultpeople2.keys()\n",
    "dates1 = resultdate.values()\n",
    "ranks = resultrank.values()\n",
    "locations = resultlocation.keys()\n",
    "\n",
    "for i in range(len(resultpeople2)):\n",
    "    resultpeople2[keyspeople[i]] = list(set(resultpeople2[keyspeople[i]]))\n",
    "#for i in range(len(resultrank)):\n",
    " #   resultrank[keyspeople[i]] = list(set(resultrank[keyspeople[i]]))"
   ]
  },
  {
   "cell_type": "code",
   "execution_count": 4,
   "metadata": {},
   "outputs": [
    {
     "data": {
      "text/plain": [
       "'Graph1.jpg.pdf'"
      ]
     },
     "execution_count": 4,
     "metadata": {},
     "output_type": "execute_result"
    }
   ],
   "source": [
    "dot = vg.Graph()\n",
    "dot.engine = 'dot'\n",
    "dot.attr('node', shape='circle', style = \"filled\", fillcolor = \"red\", height = \"4\")\n",
    "def areagraph1(area):\n",
    "    alreadyedges = list()\n",
    "    area = str(area)\n",
    "    dot.node(area)\n",
    "    dot.attr('node', shape='oval', style = \"filled\", fillcolor = \"white\", height = \"0.02\")\n",
    "    if area not in resultpeople1.keys():\n",
    "        print(\"This is not a valid entry. Here are valid entries.\")\n",
    "        print(list(set(resultpeople1.keys())))\n",
    "        return -1\n",
    "    for j in range(len(resultpeople1[area])):\n",
    "        person = resultpeople1[area][j]\n",
    "        if (str(person), str(area)) not in alreadyedges:\n",
    "            alreadyedges.append((str(person), str(area)))\n",
    "            dot.edge(str(person), str(area), color = \"red\")\n",
    "        personarea = resultpeople2[person]\n",
    "        for r in range(len(personarea)):\n",
    "            personarea1 = personarea[r]\n",
    "            if (str(personarea1), str(person)) not in alreadyedges and (str(person), str(personarea1)) not in alreadyedges:\n",
    "                alreadyedges.append((str(person), str(personarea1)))\n",
    "                dot.edge(str(person), str(personarea1), color = \"purple\")\n",
    "            if personarea1 in locations:\n",
    "                location = resultlocation[personarea1]\n",
    "                if len(location) == 0:\n",
    "                    location = \"No location given in data.\"\n",
    "                    if (str(personarea1), str(location)) not in alreadyedges:\n",
    "                        alreadyedges.append((str(personarea1), str(location)))\n",
    "                        dot.edge(str(personarea1), str(location), color = \"blue\")\n",
    "                else:\n",
    "                    location = location[0]\n",
    "                    if (str(personarea1), str(location)) not in alreadyedges:\n",
    "                        alreadyedges.append((str(personarea1), str(location)))\n",
    "                        dot.edge(str(personarea1), str(location), color = \"blue\", headlabel = \"Location:\")\n",
    "            else:\n",
    "                location = \"No location given in data.\"\n",
    "                if (str(personarea1), str(location)) not in alreadyedges:\n",
    "                    alreadyedges.append((str(personarea1), str(location)))\n",
    "                    dot.edge(str(personarea1), str(location), color = \"blue\")\n",
    "        if area in keysorg:\n",
    "            member = result[area]\n",
    "            if len(member) == 0:\n",
    "                member = [\"No information about memberships.\"]\n",
    "        else:\n",
    "            member = [\"No information about memberships.\"]\n",
    "        if area in resultdate:\n",
    "            dt = resultdate[area]\n",
    "            if len(dt) == 0:\n",
    "                dt3 = \"No Date Given\"\n",
    "            else:\n",
    "                dt1 = dt[len(dt)-1]\n",
    "                dt2 = datetime.date(dt1.year, dt1.month, dt1.day)\n",
    "                dt3 = str(dt2.strftime('%B %d, %Y'))\n",
    "        else:\n",
    "            dt3 = \"N/A\"\n",
    "        for r in range(len(member)):\n",
    "            if (str(area), str(member[r])) not in alreadyedges:\n",
    "                alreadyedges.append((str(area), str(member[r])))\n",
    "                dot.edge(str(area), str(member[r]), color = \"green\", headlabel = \"Last Confirmed: \" + dt3 + \".\")\n",
    "        if area in locations:\n",
    "            location = resultlocation[area]\n",
    "            if len(location) == 0:\n",
    "                location = \"No location given in data.\"\n",
    "                if (str(area), str(location)) not in alreadyedges:\n",
    "                    alreadyedges.append((str(area), str(location)))\n",
    "                    dot.edge(str(area), str(location), color = \"blue\")\n",
    "            else:\n",
    "                location = location[0]\n",
    "                if (str(area), str(location)) not in alreadyedges:\n",
    "                    alreadyedges.append((str(area), str(location)))\n",
    "                    dot.edge(str(area), str(location), color = \"blue\", headlabel = \"Location:\")\n",
    "        else:\n",
    "                location = \"No location given in data.\"\n",
    "                if (str(area), str(location)) not in alreadyedges:\n",
    "                    alreadyedges.append((str(area), str(location)))\n",
    "                    dot.edge(str(area), str(location), color = \"blue\")\n",
    "    return dot\n",
    "areagraph1(\"1 Mechanised Division\")\n",
    "dot.render('Graph1.jpg', view=True)"
   ]
  },
  {
   "cell_type": "code",
   "execution_count": 6,
   "metadata": {},
   "outputs": [
    {
     "data": {
      "text/plain": [
       "'Graph2.jpg.pdf'"
      ]
     },
     "execution_count": 6,
     "metadata": {},
     "output_type": "execute_result"
    }
   ],
   "source": [
    "dot = vg.Graph()\n",
    "dot.engine = 'dot'\n",
    "dot.attr('node', shape='circle', style = \"filled\", fillcolor = \"red\", height = \"4\")\n",
    "\n",
    "def areagraph2(person):\n",
    "    alreadyedges = list()\n",
    "    person = str(person)\n",
    "    dot.node(person)\n",
    "    dot.attr('node', shape='oval', style = \"filled\", fillcolor = \"white\", height = \"0.02\")\n",
    "    if person not in resultpeople2.keys():\n",
    "        print(\"This is not a valid entry. Here are valid entries.\")\n",
    "        print(list(set(resultpeople2.keys())))\n",
    "        return -1\n",
    "    for j in range(len(resultpeople2[person])):\n",
    "        area = resultpeople2[person][j]\n",
    "        if (str(person), str(area)) not in alreadyedges:\n",
    "            alreadyedges.append((str(person), str(area)))\n",
    "            dot.edge(str(person), str(area), color = \"red\")\n",
    "        personarea = resultpeople1[area]\n",
    "        for r in range(len(personarea)):\n",
    "            personarea1 = personarea[r]\n",
    "        if (str(personarea1), str(area)) not in alreadyedges and (str(area), str(personarea1)) not in alreadyedges:\n",
    "            alreadyedges.append((str(personarea1), str(area)))\n",
    "            dot.edge(str(personarea1), str(area), color = \"purple\")\n",
    "        if area in locations:\n",
    "                location = resultlocation[area]\n",
    "                if len(location) == 0:\n",
    "                    location = \"No location given in data.\"\n",
    "                    if (str(area), str(location)) not in alreadyedges:\n",
    "                        alreadyedges.append((str(area), str(location)))\n",
    "                        dot.edge(str(area), str(location), color = \"blue\")\n",
    "                    else:\n",
    "                        location = location[0]\n",
    "                        if (str(area), str(location)) not in alreadyedges:\n",
    "                            alreadyedges.append((str(area), str(location)))\n",
    "                            dot.edge(str(area), str(location), color = \"blue\", headlabel = \"Location:\")\n",
    "                else:\n",
    "                    location = \"No location given in data.\"\n",
    "                    if (str(area), str(location)) not in alreadyedges:\n",
    "                        alreadyedges.append((str(area), str(location)))\n",
    "                        dot.edge(str(area), str(location), color = \"blue\")\n",
    "    return dot\n",
    "areagraph2(\"Garba Ayodele Wahab\")\n",
    "dot.render('Graph2.jpg', view=True)"
   ]
  }
 ],
 "metadata": {
  "kernelspec": {
   "display_name": "Python 3",
   "language": "python",
   "name": "python3"
  },
  "language_info": {
   "codemirror_mode": {
    "name": "ipython",
    "version": 3
   },
   "file_extension": ".py",
   "mimetype": "text/x-python",
   "name": "python",
   "nbconvert_exporter": "python",
   "pygments_lexer": "ipython3",
   "version": "3.5.4"
  }
 },
 "nbformat": 4,
 "nbformat_minor": 2
}
